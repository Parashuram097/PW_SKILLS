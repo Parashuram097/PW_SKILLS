{
 "cells": [
  {
   "cell_type": "code",
   "execution_count": 1,
   "id": "8cb24618",
   "metadata": {},
   "outputs": [],
   "source": [
    "import pandas as pd\n",
    "import numpy as np"
   ]
  },
  {
   "cell_type": "code",
   "execution_count": 1,
   "id": "1efd92f4",
   "metadata": {},
   "outputs": [
    {
     "name": "stdout",
     "output_type": "stream",
     "text": [
      "0     4\n",
      "1     8\n",
      "2    15\n",
      "3    16\n",
      "4    23\n",
      "5    42\n",
      "dtype: int64\n"
     ]
    }
   ],
   "source": [
    "\"\"\"\n",
    "Q1.Create a Pandas Series that contains the following data: 4, 8, 15, 16, 23, and 42. Then, print the series.\n",
    "\"\"\"\n",
    "\n",
    "import pandas as pd\n",
    "\n",
    "data = [4, 8, 15, 16, 23, 42]\n",
    "series = pd.Series(data)\n",
    "\n",
    "print(series)\n"
   ]
  },
  {
   "cell_type": "code",
   "execution_count": 2,
   "id": "25c39f9b",
   "metadata": {},
   "outputs": [
    {
     "name": "stdout",
     "output_type": "stream",
     "text": [
      "0     1\n",
      "1     2\n",
      "2     3\n",
      "3     4\n",
      "4     5\n",
      "5     6\n",
      "6     7\n",
      "7     8\n",
      "8     9\n",
      "9    10\n",
      "dtype: int64\n"
     ]
    }
   ],
   "source": [
    "\"\"\"\n",
    "Q2. Create a variable of list type containing 10 elements in it, and apply pandas.Series function on the\n",
    "variable print it.\n",
    "\"\"\"\n",
    "my_list = [1, 2, 3, 4, 5, 6, 7, 8, 9, 10]\n",
    "series = pd.Series(my_list)\n",
    "print(series)"
   ]
  },
  {
   "attachments": {
    "data_pd.png": {
     "image/png": "[encoded data removed]"
    }
   },
   "cell_type": "markdown",
   "id": "e7f205f8",
   "metadata": {},
   "source": [
    "\"\"\"\n",
    "Q3. Create a Pandas DataFrame that contains the following data:\n",
    "Then, \n",
    "![data_pd.png](attachment:data_pd.png)\n",
    "print the DataFrame.\n",
    "\"\"\""
   ]
  },
  {
   "cell_type": "code",
   "execution_count": 3,
   "id": "a5acd295",
   "metadata": {},
   "outputs": [
    {
     "data": {
      "text/html": [
       "<div>\n",
       "<style scoped>\n",
       "    .dataframe tbody tr th:only-of-type {\n",
       "        vertical-align: middle;\n",
       "    }\n",
       "\n",
       "    .dataframe tbody tr th {\n",
       "        vertical-align: top;\n",
       "    }\n",
       "\n",
       "    .dataframe thead th {\n",
       "        text-align: right;\n",
       "    }\n",
       "</style>\n",
       "<table border=\"1\" class=\"dataframe\">\n",
       "  <thead>\n",
       "    <tr style=\"text-align: right;\">\n",
       "      <th></th>\n",
       "      <th>Name</th>\n",
       "      <th>Age</th>\n",
       "      <th>Gender</th>\n",
       "    </tr>\n",
       "  </thead>\n",
       "  <tbody>\n",
       "    <tr>\n",
       "      <th>0</th>\n",
       "      <td>Alice</td>\n",
       "      <td>25</td>\n",
       "      <td>Female</td>\n",
       "    </tr>\n",
       "    <tr>\n",
       "      <th>1</th>\n",
       "      <td>Bob</td>\n",
       "      <td>30</td>\n",
       "      <td>Male</td>\n",
       "    </tr>\n",
       "    <tr>\n",
       "      <th>2</th>\n",
       "      <td>Claire</td>\n",
       "      <td>27</td>\n",
       "      <td>Female</td>\n",
       "    </tr>\n",
       "  </tbody>\n",
       "</table>\n",
       "</div>"
      ],
      "text/plain": [
       "     Name  Age  Gender\n",
       "0   Alice   25  Female\n",
       "1     Bob   30    Male\n",
       "2  Claire   27  Female"
      ]
     },
     "execution_count": 3,
     "metadata": {},
     "output_type": "execute_result"
    }
   ],
   "source": [
    "df=pd.DataFrame({\n",
    "    'Name':['Alice','Bob','Claire'],\n",
    "    'Age':[25,30,27],\n",
    "    'Gender':['Female','Male','Female']\n",
    "})\n",
    "\n",
    "df"
   ]
  },
  {
   "cell_type": "code",
   "execution_count": 5,
   "id": "670516bc",
   "metadata": {},
   "outputs": [
    {
     "name": "stdout",
     "output_type": "stream",
     "text": [
      "0     4\n",
      "1     8\n",
      "2    15\n",
      "3    16\n",
      "4    23\n",
      "5    42\n",
      "dtype: int64\n",
      "   Numbers Letters\n",
      "0        4       A\n",
      "1        8       B\n",
      "2       15       C\n",
      "3       16       D\n",
      "4       23       E\n",
      "5       42       F\n"
     ]
    }
   ],
   "source": [
    "\"\"\"\n",
    "Q4. What is ‘DataFrame’ in pandas and how is it different from pandas.series? Explain with an example.\n",
    "\"\"\"\n",
    "\n",
    "#Dataframe is a dictionary which will contain lot of pandas series.Series don't have key and value fair\n",
    "\n",
    "\n",
    "series = pd.Series([4, 8, 15, 16, 23, 42])\n",
    "print(series)\n",
    "\n",
    "data = {'Numbers': series, 'Letters': ['A', 'B', 'C', 'D', 'E', 'F']}\n",
    "df = pd.DataFrame(data)\n",
    "print(df)\n"
   ]
  },
  {
   "cell_type": "code",
   "execution_count": 7,
   "id": "198e7931",
   "metadata": {},
   "outputs": [
    {
     "name": "stdout",
     "output_type": "stream",
     "text": [
      "    Name  Age    Country\n",
      "2    Bob   32         UK\n",
      "3  Emily   30  Australia\n",
      "1  Alice   28     Canada\n",
      "0   John   25        USA\n"
     ]
    }
   ],
   "source": [
    "\"\"\"\n",
    "Q5. What are some common functions you can use to manipulate data in a Pandas DataFrame? Can\n",
    "you give an example of when you might use one of these functions?\n",
    "\"\"\"\n",
    "\n",
    "\n",
    "\"\"\"\n",
    "head() and tail(): These functions are used to view the first or last few rows of a DataFrame, respectively. They can be helpful to quickly inspect the data.\n",
    "\n",
    "info(): This function provides a summary of the DataFrame, including the column names, data types, and non-null counts. It helps in understanding the structure of the DataFrame.\n",
    "\n",
    "describe(): It generates descriptive statistics of numerical columns in the DataFrame, such as count, mean, standard deviation, minimum, maximum, and quartile values.\n",
    "\n",
    "loc[] and iloc[]: These indexing functions are used to access specific rows or columns in a DataFrame. loc[] is label-based indexing, while iloc[] is integer-based indexing.\n",
    "\n",
    "drop(): This function is used to remove rows or columns from a DataFrame based on specified labels or indices. It helps in eliminating unnecessary data or cleaning the DataFrame.\n",
    "\n",
    "sort_values(): It is used to sort the DataFrame based on one or more columns. You can specify the column(s) to sort by and choose the ascending or descending order.\n",
    "\n",
    "groupby(): This function is used for grouping rows in a DataFrame based on one or more columns. It allows performing operations on specific groups of data.\n",
    "\n",
    "fillna(): It is used to fill missing values in a DataFrame with a specified value or a strategy such as forward fill or backward fill.\n",
    "\n",
    "apply(): This function applies a specified function to each element or column in the DataFrame. It can be used to perform custom operations on the data.\n",
    "\n",
    "merge(): It combines two DataFrames based on a common column or index. It is useful when you need to join or merge data from different sources.\n",
    "\"\"\"\n",
    "\n",
    "\n",
    "data = {'Name': ['John', 'Alice', 'Bob', 'Emily'],\n",
    "        'Age': [25, 28, 32, 30],\n",
    "        'Country': ['USA', 'Canada', 'UK', 'Australia']}\n",
    "df = pd.DataFrame(data)\n",
    "df_sorted = df.sort_values('Age', ascending=False)\n",
    "print(df_sorted)\n"
   ]
  },
  {
   "cell_type": "code",
   "execution_count": 9,
   "id": "00ef2ea5",
   "metadata": {},
   "outputs": [
    {
     "data": {
      "text/plain": [
       "'\\nQ6. Which of the following is mutable in nature Series, DataFrame, Panel?\\n'"
      ]
     },
     "execution_count": 9,
     "metadata": {},
     "output_type": "execute_result"
    }
   ],
   "source": [
    "\"\"\"\n",
    "Q6. Which of the following is mutable in nature Series, DataFrame, Panel?\n",
    "\"\"\"\n",
    "\n",
    "#Series and dataframe are mutable."
   ]
  },
  {
   "cell_type": "code",
   "execution_count": 8,
   "id": "2809af6e",
   "metadata": {},
   "outputs": [
    {
     "name": "stdout",
     "output_type": "stream",
     "text": [
      "    Name  Age    Country\n",
      "0   John   25        USA\n",
      "1  Alice   28     Canada\n",
      "2    Bob   32         UK\n",
      "3  Emily   30  Australia\n"
     ]
    }
   ],
   "source": [
    "\"\"\"\n",
    "Q7. Create a DataFrame using multiple Series. Explain with an example.\n",
    "\"\"\"\n",
    "\n",
    "name_series = pd.Series(['John', 'Alice', 'Bob', 'Emily'])\n",
    "age_series = pd.Series([25, 28, 32, 30])\n",
    "country_series = pd.Series(['USA', 'Canada', 'UK', 'Australia'])\n",
    "\n",
    "data = {'Name': name_series, 'Age': age_series, 'Country': country_series}\n",
    "df = pd.DataFrame(data)\n",
    "\n",
    "print(df)\n"
   ]
  },
  {
   "cell_type": "code",
   "execution_count": null,
   "id": "7f2c7b11",
   "metadata": {},
   "outputs": [],
   "source": []
  }
 ],
 "metadata": {
  "kernelspec": {
   "display_name": "Python 3 (ipykernel)",
   "language": "python",
   "name": "python3"
  },
  "language_info": {
   "codemirror_mode": {
    "name": "ipython",
    "version": 3
   },
   "file_extension": ".py",
   "mimetype": "text/x-python",
   "name": "python",
   "nbconvert_exporter": "python",
   "pygments_lexer": "ipython3",
   "version": "3.9.13"
  }
 },
 "nbformat": 4,
 "nbformat_minor": 5
}
