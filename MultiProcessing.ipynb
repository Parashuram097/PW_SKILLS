{
 "cells": [
  {
   "cell_type": "code",
   "execution_count": null,
   "id": "99c9a912",
   "metadata": {},
   "outputs": [],
   "source": [
    "\"\"\"\n",
    "Q1. What is multiprocessing in python? Why is it useful?\n",
    "\"\"\"\n",
    "\n",
    "\"\"\"\n",
    "Multiprocessing in Python refers to the ability to create and run multiple processes concurrently, \n",
    "each having its own instance of the Python interpreter.\n",
    "it is useful for achieving parallelism, utilizing multiple cores, improving responsiveness, isolating resources, \n",
    "and scaling performance in Python programs.\n",
    "\"\"\""
   ]
  },
  {
   "cell_type": "code",
   "execution_count": null,
   "id": "2f2618b4",
   "metadata": {},
   "outputs": [],
   "source": [
    "\"\"\"\n",
    "Q2. What are the differences between multiprocessing and multithreading?\n",
    "\"\"\"\n",
    "\n",
    "\"\"\"\n",
    "multiprocessing is suitable for CPU-bound tasks that can benefit from true parallel execution, \n",
    "while multithreading is more effective for I/O-bound tasks that involve waiting for I/O operations. \n",
    "Multiprocessing provides better isolation and utilizes multiple CPU cores, but incurs additional overhead and complexity. \n",
    "Multithreading allows for easier data sharing but is constrained by the GIL and may not achieve true parallelism\n",
    "in CPU-bound scenarios.\n",
    "\"\"\""
   ]
  },
  {
   "cell_type": "code",
   "execution_count": 1,
   "id": "ff225c0f",
   "metadata": {},
   "outputs": [
    {
     "name": "stdout",
     "output_type": "stream",
     "text": [
      "Hello from the main process!\n"
     ]
    }
   ],
   "source": [
    "\"\"\"\n",
    "Q3. Write a python code to create a process using the multiprocessing module.\n",
    "\"\"\"\n",
    "\n",
    "import multiprocessing\n",
    "\n",
    "def print_message():\n",
    "    print(\"Hello from the child process!\")\n",
    "\n",
    "if __name__ == '__main__':\n",
    "    # Create a new process\n",
    "    process = multiprocessing.Process(target=print_message)\n",
    "\n",
    "    # Start the process\n",
    "    process.start()\n",
    "\n",
    "    # Wait for the process to complete\n",
    "    process.join()\n",
    "\n",
    "    # Print a message from the main process\n",
    "    print(\"Hello from the main process!\")\n"
   ]
  },
  {
   "cell_type": "code",
   "execution_count": 3,
   "id": "5ee2002b",
   "metadata": {},
   "outputs": [
    {
     "data": {
      "text/plain": [
       "'\\nA multiprocessing pool in Python refers to a collection of worker processes that are used to distribute tasks across multiple \\nCPUs or cores. It provides a convenient way to parallelize and distribute work among multiple processes, \\nallowing for efficient execution of tasks.\\n\\nThe multiprocessing pool is particularly useful for scenarios where you have a set of independent tasks that can be executed\\nin parallel. This includes tasks such as data processing, image processing, simulations, and any other compute-intensive\\noperations.\\n'"
      ]
     },
     "execution_count": 3,
     "metadata": {},
     "output_type": "execute_result"
    }
   ],
   "source": [
    "\"\"\"\n",
    "Q4. What is a multiprocessing pool in python? Why is it used?\n",
    "\"\"\"\n",
    "\n",
    "\"\"\"\n",
    "A multiprocessing pool in Python refers to a collection of worker processes that are used to distribute tasks across multiple \n",
    "CPUs or cores. It provides a convenient way to parallelize and distribute work among multiple processes, \n",
    "allowing for efficient execution of tasks.\n",
    "\n",
    "The multiprocessing pool is particularly useful for scenarios where you have a set of independent tasks that can be executed\n",
    "in parallel. This includes tasks such as data processing, image processing, simulations, and any other compute-intensive\n",
    "operations.\n",
    "\"\"\""
   ]
  },
  {
   "cell_type": "code",
   "execution_count": null,
   "id": "852c5003",
   "metadata": {},
   "outputs": [],
   "source": [
    "\"\"\"\n",
    "Q5. How can we create a pool of worker processes in python using the multiprocessing module?\n",
    "\"\"\"\n",
    "\n",
    "import multiprocessing\n",
    "\n",
    "# Define a function to be executed by worker processes\n",
    "def process_task(task):\n",
    "    # Process the task here\n",
    "    result = task * 2\n",
    "    return result\n",
    "\n",
    "if __name__ == '__main__':\n",
    "    # Create a multiprocessing pool with a specified number of worker processes\n",
    "    pool = multiprocessing.Pool(processes=4)\n",
    "\n",
    "    # Define a list of tasks\n",
    "    tasks = [1, 2, 3, 4, 5]\n",
    "\n",
    "    # Use the map() method to distribute the tasks among the worker processes\n",
    "    results = pool.map(process_task, tasks)\n",
    "\n",
    "    # Print the results\n",
    "    print(results)\n",
    "\n",
    "    # Close the pool of worker processes\n",
    "    pool.close()\n",
    "\n",
    "    # Wait for all worker processes to complete\n",
    "    pool.join()\n"
   ]
  },
  {
   "cell_type": "code",
   "execution_count": null,
   "id": "f6833fa3",
   "metadata": {},
   "outputs": [],
   "source": [
    "\"\"\"\n",
    "Q6. Write a python program to create 4 processes, each process should print a different number using the\n",
    "multiprocessing module in python.\n",
    "\"\"\"\n",
    "\n",
    "import multiprocessing\n",
    "\n",
    "def print_number(number):\n",
    "    print(f\"Process ID: {multiprocessing.current_process().pid}, Number: {number}\")\n",
    "\n",
    "if __name__ == '__main__':\n",
    "    # Create a list of numbers\n",
    "    numbers = [1, 2, 3, 4]\n",
    "\n",
    "    # Create a pool of four worker processes\n",
    "    pool = multiprocessing.Pool(processes=4)\n",
    "\n",
    "    # Map the print_number function to the list of numbers\n",
    "    pool.map(print_number, numbers)\n",
    "\n",
    "    # Close the pool of worker processes\n",
    "    pool.close()\n",
    "\n",
    "    # Wait for all worker processes to complete\n",
    "    pool.join()\n"
   ]
  },
  {
   "cell_type": "code",
   "execution_count": null,
   "id": "06b76e96",
   "metadata": {},
   "outputs": [],
   "source": []
  }
 ],
 "metadata": {
  "kernelspec": {
   "display_name": "Python 3 (ipykernel)",
   "language": "python",
   "name": "python3"
  },
  "language_info": {
   "codemirror_mode": {
    "name": "ipython",
    "version": 3
   },
   "file_extension": ".py",
   "mimetype": "text/x-python",
   "name": "python",
   "nbconvert_exporter": "python",
   "pygments_lexer": "ipython3",
   "version": "3.9.13"
  }
 },
 "nbformat": 4,
 "nbformat_minor": 5
}
