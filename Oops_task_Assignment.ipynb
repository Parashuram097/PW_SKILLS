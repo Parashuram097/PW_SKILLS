{
 "cells": [
  {
   "cell_type": "code",
   "execution_count": 1,
   "id": "8c46afd3",
   "metadata": {},
   "outputs": [
    {
     "name": "stdout",
     "output_type": "stream",
     "text": [
      "Vehicle:  Car\n",
      "Max Speed:  200\n",
      "Average Speed:  80\n"
     ]
    }
   ],
   "source": [
    "\"\"\"\n",
    "Q1, Create a vehicle class with an init method having instance variables as name_of_vehicle, max_speed\n",
    "and average_of_vehicle.\n",
    "\"\"\"\n",
    "\n",
    "class Vehicle:\n",
    "    def __init__(self, name_of_vehicle, max_speed, average_speed):\n",
    "        self.name_of_vehicle = name_of_vehicle\n",
    "        self.max_speed = max_speed\n",
    "        self.average_speed = average_speed\n",
    "\n",
    "    def display_info(self):\n",
    "        print(\"Vehicle: \", self.name_of_vehicle)\n",
    "        print(\"Max Speed: \", self.max_speed)\n",
    "        print(\"Average Speed: \", self.average_speed)\n",
    "\n",
    "\n",
    "# Example usage:\n",
    "car = Vehicle(\"Car\", 200, 80)\n",
    "car.display_info()\n"
   ]
  },
  {
   "cell_type": "code",
   "execution_count": 2,
   "id": "cda23766",
   "metadata": {},
   "outputs": [
    {
     "name": "stdout",
     "output_type": "stream",
     "text": [
      "Car - Seating Capacity: 5\n"
     ]
    }
   ],
   "source": [
    "\"\"\"\n",
    "Q2. Create a child class car from the vehicle class created in Que 1, which will inherit the vehicle class.\n",
    "Create a method named seating_capacity which takes capacity as an argument and returns the name of\n",
    "the vehicle and its seating capacity.\n",
    "\"\"\"\n",
    "\n",
    "class Car(Vehicle):\n",
    "    def seating_capacity(self, capacity):\n",
    "        return f\"{self.name_of_vehicle} - Seating Capacity: {capacity}\"\n",
    "\n",
    "\n",
    "# Example usage:\n",
    "car = Car(\"Car\", 200, 80)\n",
    "print(car.seating_capacity(5))\n"
   ]
  },
  {
   "cell_type": "code",
   "execution_count": 3,
   "id": "7e6496a7",
   "metadata": {},
   "outputs": [
    {
     "name": "stdout",
     "output_type": "stream",
     "text": [
      "Bat\n",
      "Mammal sound\n",
      "I can fly!\n"
     ]
    }
   ],
   "source": [
    "\"\"\"\n",
    "Q3. What is multiple inheritance? Write a python code to demonstrate multiple inheritance.\n",
    "\"\"\"\n",
    "\n",
    "class Animal:\n",
    "    def __init__(self, name):\n",
    "        self.name = name\n",
    "\n",
    "    def speak(self):\n",
    "        pass\n",
    "\n",
    "\n",
    "class Mammal(Animal):\n",
    "    def speak(self):\n",
    "        return \"Mammal sound\"\n",
    "\n",
    "\n",
    "class Flyable:\n",
    "    def fly(self):\n",
    "        return \"I can fly!\"\n",
    "\n",
    "\n",
    "class Bat(Mammal, Flyable):\n",
    "    pass\n",
    "\n",
    "\n",
    "# Example usage:\n",
    "bat = Bat(\"Bat\")\n",
    "print(bat.name)      # Output: Bat\n",
    "print(bat.speak())   # Output: Mammal sound\n",
    "print(bat.fly())     # Output: I can fly!\n"
   ]
  },
  {
   "cell_type": "code",
   "execution_count": 5,
   "id": "95bc4af8",
   "metadata": {},
   "outputs": [
    {
     "name": "stdout",
     "output_type": "stream",
     "text": [
      "PW\n",
      "Skills\n"
     ]
    }
   ],
   "source": [
    "\"\"\"\n",
    "Q4. What are getter and setter in python? Create a class and create a getter and a setter method in this\n",
    "class.\n",
    "\"\"\"\n",
    "\n",
    "#getters and setters are methods that provide access to the attributes of a class while controlling the read and write operations. \n",
    "\n",
    "class Person:\n",
    "    def __init__(self, name):\n",
    "        self._name = name\n",
    "\n",
    "    def get_name(self):\n",
    "        return self._name\n",
    "\n",
    "    def set_name(self, new_name):\n",
    "        self._name = new_name\n",
    "\n",
    "\n",
    "# Example usage:\n",
    "person = Person(\"PW\")\n",
    "print(person.get_name())    # Output: John\n",
    "\n",
    "person.set_name(\"Skills\")\n",
    "print(person.get_name())    # Output: Jane\n"
   ]
  },
  {
   "cell_type": "code",
   "execution_count": 6,
   "id": "994eae57",
   "metadata": {},
   "outputs": [
    {
     "name": "stdout",
     "output_type": "stream",
     "text": [
      "15\n"
     ]
    }
   ],
   "source": [
    "\"\"\"\n",
    "Q5.What is method overriding in python? Write a python code to demonstrate method overriding.\n",
    "\"\"\"\n",
    "\n",
    "#by using overriding a subclass can change the behavior of the method while keeping the same method name and signature\n",
    "\n",
    "class Shape:\n",
    "    def area(self):\n",
    "        return 0\n",
    "\n",
    "\n",
    "class Rectangle(Shape):\n",
    "    def __init__(self, length, width):\n",
    "        self.length = length\n",
    "        self.width = width\n",
    "\n",
    "    def area(self):\n",
    "        return self.length * self.width\n",
    "\n",
    "\n",
    "# Example usage:\n",
    "rectangle = Rectangle(5, 3)\n",
    "print(rectangle.area())    # Output: 15\n"
   ]
  },
  {
   "cell_type": "code",
   "execution_count": null,
   "id": "cd4bcfbd",
   "metadata": {},
   "outputs": [],
   "source": []
  }
 ],
 "metadata": {
  "kernelspec": {
   "display_name": "Python 3 (ipykernel)",
   "language": "python",
   "name": "python3"
  },
  "language_info": {
   "codemirror_mode": {
    "name": "ipython",
    "version": 3
   },
   "file_extension": ".py",
   "mimetype": "text/x-python",
   "name": "python",
   "nbconvert_exporter": "python",
   "pygments_lexer": "ipython3",
   "version": "3.9.13"
  }
 },
 "nbformat": 4,
 "nbformat_minor": 5
}
