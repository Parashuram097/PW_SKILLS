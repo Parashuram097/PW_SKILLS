{
 "cells": [
  {
   "cell_type": "code",
   "execution_count": 1,
   "id": "76643317",
   "metadata": {},
   "outputs": [
    {
     "name": "stdout",
     "output_type": "stream",
     "text": [
      "15\n",
      "16\n"
     ]
    }
   ],
   "source": [
    "\"\"\"\n",
    "Q1. What is Abstraction in OOps? Explain with an example.\n",
    "\"\"\"\n",
    "#Abstract classes provide a blueprint for creating derived classes \n",
    "\n",
    "from abc import ABC, abstractmethod\n",
    "\n",
    "class Shape(ABC):\n",
    "    @abstractmethod\n",
    "    def area(self):\n",
    "        pass\n",
    "\n",
    "    @abstractmethod\n",
    "    def perimeter(self):\n",
    "        pass\n",
    "\n",
    "class Rectangle(Shape):\n",
    "    def __init__(self, length, width):\n",
    "        self.length = length\n",
    "        self.width = width\n",
    "\n",
    "    def area(self):\n",
    "        return self.length * self.width\n",
    "\n",
    "    def perimeter(self):\n",
    "        return 2 * (self.length + self.width)\n",
    "\n",
    "\n",
    "# Example usage:\n",
    "rectangle = Rectangle(5, 3)\n",
    "print(rectangle.area())       # Output: 15\n",
    "print(rectangle.perimeter())  # Output: 16\n"
   ]
  },
  {
   "cell_type": "code",
   "execution_count": 2,
   "id": "29d7dbd3",
   "metadata": {},
   "outputs": [
    {
     "name": "stdout",
     "output_type": "stream",
     "text": [
      "Toyota\n",
      "Camry\n",
      "Red\n",
      "Engine started.\n",
      "Car is being driven.\n",
      "Engine stopped.\n",
      "Blue\n"
     ]
    }
   ],
   "source": [
    "\"\"\"\n",
    "Q2. Differentiate between Abstraction and Encapsulation. Explain with an example.\n",
    "\"\"\"\n",
    "\n",
    "#Abstraction allows users to interact with objects at a higher level of understanding without needing to know the internal implementation\n",
    "\n",
    "#Encapsulation keeps the internal state of an object hidden and provides a controlled interface for accessing and modifying the data\n",
    "\n",
    "class Car:\n",
    "    def __init__(self, make, model, color):\n",
    "        self._make = make\n",
    "        self._model = model\n",
    "        self._color = color\n",
    "\n",
    "    def start_engine(self):\n",
    "        print(\"Engine started.\")\n",
    "\n",
    "    def drive(self):\n",
    "        print(\"Car is being driven.\")\n",
    "\n",
    "    def stop_engine(self):\n",
    "        print(\"Engine stopped.\")\n",
    "\n",
    "    def get_make(self):\n",
    "        return self._make\n",
    "\n",
    "    def get_model(self):\n",
    "        return self._model\n",
    "\n",
    "    def get_color(self):\n",
    "        return self._color\n",
    "\n",
    "    def set_color(self, color):\n",
    "        self._color = color\n",
    "\n",
    "\n",
    "# Example usage:\n",
    "car = Car(\"Toyota\", \"Camry\", \"Red\")\n",
    "print(car.get_make())     # Output: Toyota\n",
    "print(car.get_model())    # Output: Camry\n",
    "print(car.get_color())    # Output: Red\n",
    "\n",
    "car.start_engine()        # Output: Engine started.\n",
    "car.drive()               # Output: Car is being driven.\n",
    "car.stop_engine()         # Output: Engine stopped.\n",
    "\n",
    "car.set_color(\"Blue\")\n",
    "print(car.get_color())    # Output: Blue\n"
   ]
  },
  {
   "cell_type": "code",
   "execution_count": 3,
   "id": "d0efc9a2",
   "metadata": {},
   "outputs": [
    {
     "data": {
      "text/plain": [
       "'\\nThe abc module in Python stands for \"Abstract Base Classes.\" \\nIt is a module that provides infrastructure for defining abstract base classes in Python. \\nAbstract base classes are classes that cannot be instantiated directly but serve as a blueprint for other classes\\nto inherit from.\\n\\nThe abc module is used to create abstract base classes by using the ABC metaclass or by inheriting from the ABC \\nclass provided by the module. \\nIt also provides decorators such as @abstractmethod and @abstractproperty that allow the definition of \\nabstract methods and properties in abstract classes.\\n\\n\\n\\nThe main purpose of the abc module is to enforce a certain structure and behavior in derived classes. \\nBy defining abstract base classes, you can specify a common interface and a set of methods that derived classes must implement. \\nThis helps in achieving a higher level of code organization, clarity, and reusability.\\n'"
      ]
     },
     "execution_count": 3,
     "metadata": {},
     "output_type": "execute_result"
    }
   ],
   "source": [
    "\"\"\"\n",
    "Q3. What is abc module in python? Why is it used?\n",
    "\"\"\"\n",
    "\n",
    "\"\"\"\n",
    "The abc module in Python stands for \"Abstract Base Classes.\" \n",
    "It is a module that provides infrastructure for defining abstract base classes in Python. \n",
    "Abstract base classes are classes that cannot be instantiated directly but serve as a blueprint for other classes\n",
    "to inherit from.\n",
    "\n",
    "The abc module is used to create abstract base classes by using the ABC metaclass or by inheriting from the ABC \n",
    "class provided by the module. \n",
    "It also provides decorators such as @abstractmethod and @abstractproperty that allow the definition of \n",
    "abstract methods and properties in abstract classes.\n",
    "\n",
    "\n",
    "\n",
    "The main purpose of the abc module is to enforce a certain structure and behavior in derived classes. \n",
    "By defining abstract base classes, you can specify a common interface and a set of methods that derived classes must implement. \n",
    "This helps in achieving a higher level of code organization, clarity, and reusability.\n",
    "\"\"\""
   ]
  },
  {
   "cell_type": "code",
   "execution_count": null,
   "id": "2fe1c94d",
   "metadata": {},
   "outputs": [],
   "source": [
    "\"\"\"\n",
    "Q4. How can we achieve data abstraction?\n",
    "\"\"\"\n",
    "\n",
    "#we can achieve data abstraction using Encapsulation,Class interfaces,Abstract Classes,Interfaces"
   ]
  },
  {
   "cell_type": "code",
   "execution_count": null,
   "id": "b2aaa498",
   "metadata": {},
   "outputs": [],
   "source": [
    "\"\"\"\n",
    "Q5. Can we create an instance of an abstract class? Explain your answer.\n",
    "\"\"\"\n",
    "# we can't create instance of abstract class\n",
    "\n",
    "\"\"\"\n",
    "An abstract class is a class that contains one or more abstract methods, \n",
    "which are declared but not implemented in the abstract class itself. \n",
    "Abstract methods are meant to be overridden and implemented in the derived classes.\n",
    "\n",
    "\n",
    "The purpose of an abstract class is to provide a common interface and a blueprint for derived classes. \n",
    "It defines the common behavior and characteristics that derived classes should have. \n",
    "However, an abstract class itself cannot be instantiated because it is incomplete and lacks the necessary implementations \n",
    "for its abstract methods.\n",
    "\"\"\""
   ]
  }
 ],
 "metadata": {
  "kernelspec": {
   "display_name": "Python 3 (ipykernel)",
   "language": "python",
   "name": "python3"
  },
  "language_info": {
   "codemirror_mode": {
    "name": "ipython",
    "version": 3
   },
   "file_extension": ".py",
   "mimetype": "text/x-python",
   "name": "python",
   "nbconvert_exporter": "python",
   "pygments_lexer": "ipython3",
   "version": "3.9.13"
  }
 },
 "nbformat": 4,
 "nbformat_minor": 5
}
