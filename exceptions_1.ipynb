{
 "cells": [
  {
   "cell_type": "code",
   "execution_count": 1,
   "id": "0c43e569",
   "metadata": {},
   "outputs": [
    {
     "name": "stdout",
     "output_type": "stream",
     "text": [
      "Error: Division by zero occurred.\n"
     ]
    }
   ],
   "source": [
    "\"\"\"\n",
    "Q1.What is an Exception in Python?Write the difference between Exceptions and sysntax errors.\n",
    "\"\"\"\n",
    "\n",
    "try:\n",
    "    x = 10 / 0  # This will raise a ZeroDivisionError\n",
    "except ZeroDivisionError:\n",
    "    print(\"Error: Division by zero occurred.\")\n",
    "    \n",
    "    \n",
    "\"\"\"\n",
    "Exceptions:\n",
    "Exceptions occur during the runtime of a program when an error or exceptional condition is encountered.\n",
    "Exceptions can be caught and handled using try-except blocks.\n",
    "Examples of exceptions in Python include ZeroDivisionError, TypeError, FileNotFoundError, and IndexError.\n",
    "Exceptions allow you to gracefully handle errors, provide error messages, and take appropriate actions to handle exceptional situations.\n",
    "\n",
    "\n",
    "Syntax Errors:\n",
    "Syntax errors occur during the parsing phase of a program when the code violates the syntax rules of the programming language.\n",
    "Syntax errors cannot be caught or handled using try-except blocks.\n",
    "Examples of syntax errors in Python include missing colons, incorrect indentation, missing parentheses, or using an invalid keyword.\n",
    "Syntax errors need to be fixed in the code by correcting the syntax violation before the program can be executed.\n",
    "\"\"\"\n"
   ]
  },
  {
   "cell_type": "code",
   "execution_count": 3,
   "id": "5e49c8c5",
   "metadata": {},
   "outputs": [
    {
     "ename": "ZeroDivisionError",
     "evalue": "division by zero",
     "output_type": "error",
     "traceback": [
      "\u001b[1;31m---------------------------------------------------------------------------\u001b[0m",
      "\u001b[1;31mZeroDivisionError\u001b[0m                         Traceback (most recent call last)",
      "\u001b[1;32m~\\AppData\\Local\\Temp\\ipykernel_20072\\4014900968.py\u001b[0m in \u001b[0;36m<module>\u001b[1;34m\u001b[0m\n\u001b[0;32m      6\u001b[0m     \u001b[1;32mreturn\u001b[0m \u001b[0ma\u001b[0m \u001b[1;33m/\u001b[0m \u001b[0mb\u001b[0m\u001b[1;33m\u001b[0m\u001b[1;33m\u001b[0m\u001b[0m\n\u001b[0;32m      7\u001b[0m \u001b[1;33m\u001b[0m\u001b[0m\n\u001b[1;32m----> 8\u001b[1;33m \u001b[0mresult\u001b[0m \u001b[1;33m=\u001b[0m \u001b[0mdivide\u001b[0m\u001b[1;33m(\u001b[0m\u001b[1;36m10\u001b[0m\u001b[1;33m,\u001b[0m \u001b[1;36m0\u001b[0m\u001b[1;33m)\u001b[0m\u001b[1;33m\u001b[0m\u001b[1;33m\u001b[0m\u001b[0m\n\u001b[0m\u001b[0;32m      9\u001b[0m \u001b[0mprint\u001b[0m\u001b[1;33m(\u001b[0m\u001b[1;34m\"Result:\"\u001b[0m\u001b[1;33m,\u001b[0m \u001b[0mresult\u001b[0m\u001b[1;33m)\u001b[0m\u001b[1;33m\u001b[0m\u001b[1;33m\u001b[0m\u001b[0m\n",
      "\u001b[1;32m~\\AppData\\Local\\Temp\\ipykernel_20072\\4014900968.py\u001b[0m in \u001b[0;36mdivide\u001b[1;34m(a, b)\u001b[0m\n\u001b[0;32m      4\u001b[0m \u001b[1;33m\u001b[0m\u001b[0m\n\u001b[0;32m      5\u001b[0m \u001b[1;32mdef\u001b[0m \u001b[0mdivide\u001b[0m\u001b[1;33m(\u001b[0m\u001b[0ma\u001b[0m\u001b[1;33m,\u001b[0m \u001b[0mb\u001b[0m\u001b[1;33m)\u001b[0m\u001b[1;33m:\u001b[0m\u001b[1;33m\u001b[0m\u001b[1;33m\u001b[0m\u001b[0m\n\u001b[1;32m----> 6\u001b[1;33m     \u001b[1;32mreturn\u001b[0m \u001b[0ma\u001b[0m \u001b[1;33m/\u001b[0m \u001b[0mb\u001b[0m\u001b[1;33m\u001b[0m\u001b[1;33m\u001b[0m\u001b[0m\n\u001b[0m\u001b[0;32m      7\u001b[0m \u001b[1;33m\u001b[0m\u001b[0m\n\u001b[0;32m      8\u001b[0m \u001b[0mresult\u001b[0m \u001b[1;33m=\u001b[0m \u001b[0mdivide\u001b[0m\u001b[1;33m(\u001b[0m\u001b[1;36m10\u001b[0m\u001b[1;33m,\u001b[0m \u001b[1;36m0\u001b[0m\u001b[1;33m)\u001b[0m\u001b[1;33m\u001b[0m\u001b[1;33m\u001b[0m\u001b[0m\n",
      "\u001b[1;31mZeroDivisionError\u001b[0m: division by zero"
     ]
    }
   ],
   "source": [
    "\"\"\"\n",
    "Q2. What happens when an exception is not handled?Explain with an example.\n",
    "\"\"\"\n",
    "\n",
    "def divide(a, b):\n",
    "    return a / b\n",
    "\n",
    "result = divide(10, 0)\n",
    "print(\"Result:\", result)\n",
    "\n",
    "\n",
    "\"\"\"\n",
    "When an exception is not handled, it results in an unhandled exception error, \n",
    "and the program execution is abruptly terminated. The error message and traceback are displayed, \n",
    "indicating the type of exception that occurred and the line of code where the exception was raised.\n",
    "\"\"\"\n"
   ]
  },
  {
   "cell_type": "code",
   "execution_count": 4,
   "id": "54ebfad2",
   "metadata": {},
   "outputs": [
    {
     "name": "stdout",
     "output_type": "stream",
     "text": [
      "Enter a number: 12\n",
      "Result: 0.8333333333333334\n",
      "End of program.\n"
     ]
    },
    {
     "data": {
      "text/plain": [
       "'\\nIn Python, the try-except statements are used to catch and handle exceptions. \\nThe try block contains the code that might raise an exception, and the except block specifies the exception type(s) \\nto catch and provides the code to handle the exception.\\n'"
      ]
     },
     "execution_count": 4,
     "metadata": {},
     "output_type": "execute_result"
    }
   ],
   "source": [
    "\"\"\"\n",
    "Q3. Which Python statements are used to catch and handle exceptions? Explain with an example. \n",
    "\"\"\"\n",
    "\n",
    "try:\n",
    "    x = int(input(\"Enter a number: \"))\n",
    "    result = 10 / x\n",
    "except ValueError:\n",
    "    print(\"Error: Invalid input. Please enter a valid integer.\")\n",
    "except ZeroDivisionError:\n",
    "    print(\"Error: Division by zero occurred.\")\n",
    "else:\n",
    "    print(\"Result:\", result)\n",
    "finally:\n",
    "    print(\"End of program.\")\n",
    "\n",
    "\n",
    "\"\"\"\n",
    "In Python, the try-except statements are used to catch and handle exceptions. \n",
    "The try block contains the code that might raise an exception, and the except block specifies the exception type(s) \n",
    "to catch and provides the code to handle the exception.\n",
    "\"\"\""
   ]
  },
  {
   "cell_type": "code",
   "execution_count": 7,
   "id": "d8aa64c0",
   "metadata": {},
   "outputs": [
    {
     "name": "stdout",
     "output_type": "stream",
     "text": [
      "Result: 0.1\n",
      "Error: Empty list. Cannot calculate average.\n"
     ]
    }
   ],
   "source": [
    "\"\"\"\n",
    "Q4. Explain with an example:\n",
    "A-try and else\n",
    "B-finally\n",
    "C-raise \n",
    "\"\"\"\n",
    "\n",
    "try:\n",
    "    x = 100\n",
    "    result = 10 / x\n",
    "except ValueError:\n",
    "    print(\"Error: Invalid input. Please enter a valid integer.\")\n",
    "else:\n",
    "    print(\"Result:\", result)\n",
    "\n",
    "    \n",
    "try:\n",
    "    file = open(r\"C:\\Users\\parashuram.hammannav\\Downloads\\GERMANY-UAT.xml\", \"r\")\n",
    "    # Perform some operations with the file\n",
    "except FileNotFoundError:\n",
    "    print(\"Error: File not found.\")\n",
    "finally:\n",
    "    file.close()\n",
    "\n",
    "    \n",
    "\n",
    "def calculate_average(score_list):\n",
    "    if not score_list:\n",
    "        raise ValueError(\"Error: Empty list.\")\n",
    "    total = sum(score_list)\n",
    "    average = total / len(score_list)\n",
    "    return average\n",
    "\n",
    "try:\n",
    "    scores = []  # Empty list\n",
    "    average_score = calculate_average(scores)\n",
    "except ValueError as e:\n",
    "    print(e)\n"
   ]
  },
  {
   "cell_type": "code",
   "execution_count": 8,
   "id": "05293941",
   "metadata": {},
   "outputs": [
    {
     "name": "stdout",
     "output_type": "stream",
     "text": [
      "Error occurred during withdrawal: Insufficient funds.\n"
     ]
    }
   ],
   "source": [
    "\"\"\"\n",
    "Q5. What are Custom Exceptions in python? Why do we need Custom Exceptions? Explain with an example.\n",
    "\"\"\"\n",
    "#Custom exceptions helps us to provide more specific information about the exceptional situations that can occur\n",
    "\n",
    "class WithdrawalError(Exception):\n",
    "    pass\n",
    "\n",
    "class InsufficientFundsError(WithdrawalError):\n",
    "    pass\n",
    "\n",
    "class InvalidAmountError(WithdrawalError):\n",
    "    pass\n",
    "\n",
    "class BankAccount:\n",
    "    def __init__(self, balance):\n",
    "        self.balance = balance\n",
    "\n",
    "    def withdraw(self, amount):\n",
    "        if amount <= 0:\n",
    "            raise InvalidAmountError(\"Invalid withdrawal amount.\")\n",
    "        if amount > self.balance:\n",
    "            raise InsufficientFundsError(\"Insufficient funds.\")\n",
    "        self.balance -= amount\n",
    "        print(f\"Withdrawal successful. New balance: {self.balance}\")\n",
    "\n",
    "# Usage of custom exceptions\n",
    "try:\n",
    "    account = BankAccount(1000)\n",
    "    account.withdraw(1500)\n",
    "except WithdrawalError as e:\n",
    "    print(\"Error occurred during withdrawal:\", str(e))\n"
   ]
  },
  {
   "cell_type": "code",
   "execution_count": 9,
   "id": "ac1e0127",
   "metadata": {},
   "outputs": [
    {
     "name": "stdout",
     "output_type": "stream",
     "text": [
      "Custom exception occurred: Error: Division by zero.\n"
     ]
    }
   ],
   "source": [
    "\"\"\"\n",
    "Q6. Create a custom exception class. Use this class to handle an exception.\n",
    "\"\"\"\n",
    "\n",
    "class CustomException(Exception):\n",
    "    pass\n",
    "\n",
    "def divide_numbers(a, b):\n",
    "    if b == 0:\n",
    "        raise CustomException(\"Error: Division by zero.\")\n",
    "    return a / b\n",
    "\n",
    "try:\n",
    "    result = divide_numbers(10, 0)\n",
    "except CustomException as e:\n",
    "    print(\"Custom exception occurred:\", str(e))\n"
   ]
  },
  {
   "cell_type": "code",
   "execution_count": null,
   "id": "5aeadbaf",
   "metadata": {},
   "outputs": [],
   "source": []
  }
 ],
 "metadata": {
  "kernelspec": {
   "display_name": "Python 3 (ipykernel)",
   "language": "python",
   "name": "python3"
  },
  "language_info": {
   "codemirror_mode": {
    "name": "ipython",
    "version": 3
   },
   "file_extension": ".py",
   "mimetype": "text/x-python",
   "name": "python",
   "nbconvert_exporter": "python",
   "pygments_lexer": "ipython3",
   "version": "3.9.13"
  }
 },
 "nbformat": 4,
 "nbformat_minor": 5
}
