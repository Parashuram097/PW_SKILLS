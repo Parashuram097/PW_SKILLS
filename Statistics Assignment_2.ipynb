{
 "cells": [
  {
   "cell_type": "code",
   "execution_count": null,
   "id": "c5e9d7ac",
   "metadata": {},
   "outputs": [],
   "source": [
    "\"\"\"\n",
    "Q1. What are the three measures of central tendency?\n",
    "\"\"\"\n",
    "\n",
    "\"\"\"\n",
    "Mean,Mode,Median\n",
    "\"\"\""
   ]
  },
  {
   "cell_type": "code",
   "execution_count": null,
   "id": "90c6504b",
   "metadata": {},
   "outputs": [],
   "source": [
    "\"\"\"\n",
    "Q2. What is the difference between the mean, median, and mode? How are they used to measure the\n",
    "central tendency of a dataset?\n",
    "\"\"\"\n",
    "\n",
    "\"\"\"\n",
    "Mean: The mean is the average of a dataset. \n",
    "It is calculated by summing all the values and dividing by the total number of observations. \n",
    "The mean provides a measure of the typical or representative value in the dataset.\n",
    "\n",
    "Median: The median is the middle value in an ordered dataset. It divides the dataset into two equal halves. \n",
    "The median is useful when the data contains outliers or is skewed, as it is less affected by extreme values than the mean.\n",
    "\n",
    "Mode: The mode is the value or values that appear most frequently in a dataset. \n",
    "It represents the most common or recurring value. The mode is useful for categorical or discrete data, \n",
    "providing information on the most prevalent category or class.\n",
    "\"\"\""
   ]
  },
  {
   "cell_type": "code",
   "execution_count": 2,
   "id": "68bc4b76",
   "metadata": {},
   "outputs": [
    {
     "name": "stdout",
     "output_type": "stream",
     "text": [
      "Mean: 177.01875\n",
      "Median: 177.0\n",
      "Mode: 178\n"
     ]
    }
   ],
   "source": [
    "\"\"\"\n",
    "Q3. Measure the three measures of central tendency for the given height data:\n",
    "\n",
    "[178,177,176,177,178.2,178,175,179,180,175,178.9,176.2,177,172.5,178,176.5]\n",
    "\n",
    "\"\"\"\n",
    "\n",
    "import statistics\n",
    "data = [178, 177, 176, 177, 178.2, 178, 175, 179, 180, 175, 178.9, 176.2, 177, 172.5, 178, 176.5]\n",
    "\n",
    "mean = statistics.mean(data)\n",
    "print(\"Mean:\", mean)\n",
    "\n",
    "median = statistics.median(data)\n",
    "print(\"Median:\", median)\n",
    "\n",
    "try:\n",
    "    mode = statistics.mode(data)\n",
    "    print(\"Mode:\", mode)\n",
    "except statistics.StatisticsError:\n",
    "    print(\"No mode exists.\")"
   ]
  },
  {
   "cell_type": "code",
   "execution_count": 3,
   "id": "7bb8142f",
   "metadata": {},
   "outputs": [
    {
     "name": "stdout",
     "output_type": "stream",
     "text": [
      "Standard Deviation: 1.8472389305844188\n"
     ]
    }
   ],
   "source": [
    "\"\"\"\n",
    "Q4. Find the standard deviation for the given data:\n",
    "\n",
    "[178,177,176,177,178.2,178,175,179,180,175,178.9,176.2,177,172.5,178,176.5]\n",
    "\n",
    "\"\"\"\n",
    "\n",
    "import statistics\n",
    "data = [178, 177, 176, 177, 178.2, 178, 175, 179, 180, 175, 178.9, 176.2, 177, 172.5, 178, 176.5]\n",
    "std_dev = statistics.stdev(data)\n",
    "print(\"Standard Deviation:\", std_dev)"
   ]
  },
  {
   "cell_type": "code",
   "execution_count": null,
   "id": "f7628b8d",
   "metadata": {},
   "outputs": [],
   "source": [
    "\"\"\"\n",
    "Q5. How are measures of dispersion such as range, variance, and standard deviation used to describe\n",
    "the spread of a dataset? Provide an example.\n",
    "\"\"\"\n",
    "\n",
    "\"\"\"\n",
    "Range: The difference between the maximum and minimum values in the dataset.\n",
    "Variance: Measures the average squared deviation from the mean, quantifying overall dispersion.\n",
    "Standard Deviation: The square root of the variance, providing an average distance from the mean.\n",
    "\n",
    "\n",
    "Example: For a dataset of exam scores [85, 90, 78, 92, 88, 95, 82, 89, 91, 86], the range is 17, \n",
    "the variance is approximately 21.76, and the standard deviation is approximately 4.66. \n",
    "These measures indicate the spread and variability of the scores.\n",
    "\"\"\""
   ]
  },
  {
   "cell_type": "code",
   "execution_count": null,
   "id": "4c909bd4",
   "metadata": {},
   "outputs": [],
   "source": [
    "\"\"\"\n",
    "Q6. What is a Venn diagram?\n",
    "\"\"\"\n",
    "\n",
    "\"\"\"\n",
    "\n",
    "A Venn diagram is a visual representation that illustrates the relationships and commonalities between different sets.\n",
    "\"\"\""
   ]
  },
  {
   "cell_type": "code",
   "execution_count": 4,
   "id": "1ab7ca40",
   "metadata": {},
   "outputs": [
    {
     "name": "stdout",
     "output_type": "stream",
     "text": [
      "Intersection (A ∩ B): {2, 6}\n",
      "Union (A U B): {0, 2, 3, 4, 5, 6, 7, 8, 10}\n"
     ]
    }
   ],
   "source": [
    "\"\"\"\n",
    "Q7. For the two given sets A = (2,3,4,5,6,7) & B = (0,2,6,8,10). Find:\n",
    "\n",
    "(i) A ∩ B\n",
    "\n",
    "(ii) A  U B\n",
    "\"\"\"\n",
    "\n",
    "\"\"\"\n",
    "A ∩ B = {2, 6}\n",
    "\n",
    "A U B = {0, 2, 3, 4, 5, 6, 7, 8, 10}\n",
    "\n",
    "\"\"\"\n",
    "\n",
    "\n",
    "A = {2, 3, 4, 5, 6, 7}\n",
    "B = {0, 2, 6, 8, 10}\n",
    "\n",
    "intersection = A.intersection(B)\n",
    "print(\"Intersection (A ∩ B):\", intersection)\n",
    "\n",
    "union = A.union(B)\n",
    "print(\"Union (A U B):\", union)"
   ]
  },
  {
   "cell_type": "code",
   "execution_count": null,
   "id": "93bc28c2",
   "metadata": {},
   "outputs": [],
   "source": [
    "\"\"\"\n",
    "Q8. What do you understand about skewness in data?\n",
    "\"\"\"\n",
    "\n",
    "\"\"\"\n",
    "Skewness refers to the asymmetry or lack of symmetry in a dataset. \n",
    "Positive skewness indicates a longer right tail, negative skewness indicates a longer left tail, \n",
    "and zero skewness represents a perfectly symmetrical distribution. Understanding skewness helps \n",
    "identify departures from normality and guides the selection of appropriate statistical methods.\n",
    "\"\"\""
   ]
  },
  {
   "cell_type": "code",
   "execution_count": null,
   "id": "0b7e818b",
   "metadata": {},
   "outputs": [],
   "source": [
    "\"\"\"\n",
    "Q9. If a data is right skewed then what will be the position of median with respect to mean?\n",
    "\"\"\"\n",
    "\n",
    "\"\"\"\n",
    "If a data is right-skewed, the median will typically be less than the mean.\n",
    "\"\"\""
   ]
  },
  {
   "cell_type": "code",
   "execution_count": null,
   "id": "4c424694",
   "metadata": {},
   "outputs": [],
   "source": [
    "\"\"\"\n",
    "Q10. Explain the difference between covariance and correlation. How are these measures used in\n",
    "statistical analysis?\n",
    "\"\"\"\n",
    "\n",
    "\"\"\"\n",
    "\n",
    "Covariance measures the directional relationship between variables, \n",
    "while correlation measures the strength and direction of the linear relationship. \n",
    "Correlation is standardized and ranges from -1 to 1, while covariance is not standardized. \n",
    "Both measures are used in statistical analysis to understand and quantify relationships between variables.\n",
    "\"\"\""
   ]
  },
  {
   "cell_type": "code",
   "execution_count": null,
   "id": "6333b2e1",
   "metadata": {},
   "outputs": [],
   "source": [
    "\"\"\"\n",
    "Q11. What is the formula for calculating the sample mean? Provide an example calculation for a\n",
    "dataset.\n",
    "\"\"\"\n",
    "\n",
    "\"\"\"\n",
    "Sample Mean = (Sum of all data points) / (Number of data points)\n",
    "\n",
    "test scores: [85, 90, 78, 92, 88]\n",
    "\n",
    "To calculate the sample mean:\n",
    "\n",
    "Sum of all data points = 85 + 90 + 78 + 92 + 88 = 433\n",
    "Number of data points = 5\n",
    "\n",
    "Sample Mean = 433 / 5 = 86.6\n",
    "\n",
    "\"\"\"\n",
    "\n"
   ]
  },
  {
   "cell_type": "code",
   "execution_count": null,
   "id": "7256027b",
   "metadata": {},
   "outputs": [],
   "source": [
    "\"\"\"\n",
    "Q12. For a normal distribution data what is the relationship between its measure of central tendency?\n",
    "\"\"\"\n",
    "\n",
    "\"\"\"\n",
    "mean=median=mode\n",
    "\n",
    "all are equal here.\n",
    "\"\"\""
   ]
  },
  {
   "cell_type": "code",
   "execution_count": null,
   "id": "ac89245e",
   "metadata": {},
   "outputs": [],
   "source": [
    "\"\"\"\n",
    "Q13. How is covariance different from correlation?\n",
    "\"\"\"\n",
    "\n",
    "\"\"\"\n",
    "Covariance measures the directional relationship between variables, while correlation measures the strength\n",
    "and direction of the linear relationship. Correlation is standardized, easier to interpret, and ranges from -1 to 1, \n",
    "while covariance is influenced by variable scales and has an unbounded range.\n",
    "\"\"\""
   ]
  },
  {
   "cell_type": "code",
   "execution_count": null,
   "id": "5a7724ca",
   "metadata": {},
   "outputs": [],
   "source": [
    "\"\"\"\n",
    "Q14. How do outliers affect measures of central tendency and dispersion? Provide an example.\n",
    "\"\"\"\n",
    "\n",
    "\"\"\"\n",
    "\n",
    "Measures of Central Tendency:\n",
    "\n",
    "Mean: Outliers can heavily influence the mean because it takes into account every data point. \n",
    "A single outlier that is far from the rest of the data can pull the mean towards its extreme value.\n",
    "\n",
    "Median: The median is less affected by outliers as it is based on the middle value. \n",
    "Outliers have minimal impact on the median unless they are located near the middle of the dataset.\n",
    "\n",
    "\n",
    "\n",
    "Measures of Dispersion:\n",
    "\n",
    "Range: Outliers can substantially increase the range by expanding the spread of data. \n",
    "The difference between the maximum and minimum values may become larger due to the presence of outliers.\n",
    "\n",
    "Variance and Standard Deviation: Outliers have a notable impact on variance and standard deviation since these measures \n",
    "consider the deviation from the mean. Outliers with extreme values can inflate the squared differences, \n",
    "leading to larger variances and standard deviations.\n",
    "\n",
    "\n",
    "\n",
    "\n",
    "Dataset: [12, 15, 18, 20, 22, 25, 100]\n",
    "\n",
    "Mean: The outlier value of 100 greatly influences the mean, pulling it towards a higher value.\n",
    "Median: The median is less affected by outliers and remains at 20, representing the middle value.\n",
    "Range: The presence of the outlier increases the range from 12 to 100.\n",
    "Variance and Standard Deviation: The outlier significantly impacts variance and standard deviation, increasing their values.\n",
    "\n",
    "Outliers can distort measures of central tendency (mean) and dispersion (range, variance, standard deviation), \n",
    "emphasizing the need to identify and handle them appropriately.\n",
    "\"\"\""
   ]
  }
 ],
 "metadata": {
  "kernelspec": {
   "display_name": "Python 3 (ipykernel)",
   "language": "python",
   "name": "python3"
  },
  "language_info": {
   "codemirror_mode": {
    "name": "ipython",
    "version": 3
   },
   "file_extension": ".py",
   "mimetype": "text/x-python",
   "name": "python",
   "nbconvert_exporter": "python",
   "pygments_lexer": "ipython3",
   "version": "3.9.13"
  }
 },
 "nbformat": 4,
 "nbformat_minor": 5
}
